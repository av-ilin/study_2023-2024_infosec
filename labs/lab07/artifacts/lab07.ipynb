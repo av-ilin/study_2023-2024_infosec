{
  "nbformat": 4,
  "nbformat_minor": 0,
  "metadata": {
    "colab": {
      "provenance": []
    },
    "kernelspec": {
      "name": "python3",
      "display_name": "Python 3"
    },
    "language_info": {
      "name": "python"
    }
  },
  "cells": [
    {
      "cell_type": "code",
      "execution_count": 226,
      "metadata": {
        "id": "NPCMsPqyYrGr"
      },
      "outputs": [],
      "source": [
        "class Gumming:\n",
        "    def xor(self, hex_seq1, hex_seq2):\n",
        "        hex1 = hex_seq1.split()\n",
        "        hex2 = hex_seq2.split()\n",
        "        return ' '.join([self.__xor(hex1, hex2) for hex1, hex2 in zip(hex1, hex2)])\n",
        "\n",
        "    def to_hex(self, msg):\n",
        "        msg_hex = []\n",
        "        for char in msg:\n",
        "            char_cp1251 = char.encode('cp1251')\n",
        "            char_code = int.from_bytes(char_cp1251, 'little')\n",
        "            char_hex = hex(char_code)[-2:].upper()\n",
        "            msg_hex.append(char_hex)\n",
        "        return ' '.join(msg_hex)\n",
        "\n",
        "    def from_hex(self, msg_hex):\n",
        "        msg = ''\n",
        "        for char_hex in msg_hex.split():\n",
        "            char_code = int(char_hex, 16)\n",
        "            char_cp1251 = char_code.to_bytes(1, 'little')\n",
        "            char = char_cp1251.decode('cp1251')\n",
        "            msg += char\n",
        "        return msg\n",
        "\n",
        "    def __xor(self, sym1, sym2):\n",
        "        xor = lambda x, y: bytes(a^b for a, b in zip(x, y))\n",
        "        b_sym1 = bytes.fromhex(sym1)\n",
        "        b_sym2 = bytes.fromhex(sym2)\n",
        "        r_result = xor(b_sym1, b_sym2)\n",
        "        result = r_result.hex().upper()\n",
        "        return result\n",
        "\n",
        "gumming = Gumming()"
      ]
    },
    {
      "cell_type": "code",
      "source": [
        "src_msg = 'Штирлиц – Вы Герой!!'\n",
        "hex_msg = gumming.to_hex(src_msg)\n",
        "src_key = '05 0C 17 7F 0E 4E 37 D2 94 10 09 2E 22 57 FF C8 0B B2 70 54'\n",
        "enc_msg = gumming.xor(hex_msg, src_key)\n",
        "\n",
        "mul_key = '05 0C 17 7F 0E 4E 37 D2 94 10 09 2E 22 55 F4 D3 07 BB BC 54'\n",
        "mul_res = gumming.xor(enc_msg, mul_key)\n",
        "mul_msg = gumming.from_hex(mul_res)\n",
        "\n",
        "print(src_msg, '<-- Сообщение Центра')\n",
        "print(hex_msg, '<-- Сообщение Центра (16)')\n",
        "print(src_key, '<-- Ключ Центра')\n",
        "print(enc_msg, '<-- Закодированное cообщение Центра')\n",
        "print(mul_key, '<-- Ключ Мюллера')\n",
        "print(mul_res, '<-- Сообщение Мюллера (16)')\n",
        "print(mul_msg, '<-- Сообщение Мюллера')"
      ],
      "metadata": {
        "colab": {
          "base_uri": "https://localhost:8080/"
        },
        "id": "pyIHFfoI0X92",
        "outputId": "46d84984-8897-464f-85f9-4e474ce90865"
      },
      "execution_count": 228,
      "outputs": [
        {
          "output_type": "stream",
          "name": "stdout",
          "text": [
            "Штирлиц – Вы Герой!! <-- Сообщение Центра\n",
            "D8 F2 E8 F0 EB E8 F6 20 96 20 C2 FB 20 C3 E5 F0 EE E9 21 21 <-- Сообщение Центра (16)\n",
            "05 0C 17 7F 0E 4E 37 D2 94 10 09 2E 22 57 FF C8 0B B2 70 54 <-- Ключ Центра\n",
            "DD FE FF 8F E5 A6 C1 F2 02 30 CB D5 02 94 1A 38 E5 5B 51 75 <-- Закодированное cообщение Центра\n",
            "05 0C 17 7F 0E 4E 37 D2 94 10 09 2E 22 55 F4 D3 07 BB BC 54 <-- Ключ Мюллера\n",
            "D8 F2 E8 F0 EB E8 F6 20 96 20 C2 FB 20 C1 EE EB E2 E0 ED 21 <-- Сообщение Мюллера (16)\n",
            "Штирлиц – Вы Болван! <-- Сообщение Мюллера\n"
          ]
        }
      ]
    },
    {
      "cell_type": "code",
      "source": [
        "ng_msg = 'С Новым Годом,друзья!'\n",
        "ng_hex = gumming.to_hex(ng_msg)\n",
        "ng_key = gumming.xor(enc_msg, ng_hex)\n",
        "ng_res = gumming.from_hex(gumming.xor(enc_msg, ng_key))\n",
        "\n",
        "print(ng_msg, '<-- Необходимое сообщение')\n",
        "print(ng_hex, '<-- Необходимое сообщение (16)')\n",
        "print(enc_msg, '<-- Закодированное cообщение Центра')\n",
        "print(ng_key, '<-- Искомый ключ')\n",
        "print(ng_res, '<-- Необходимое сообщение из cообщения Центра')"
      ],
      "metadata": {
        "colab": {
          "base_uri": "https://localhost:8080/"
        },
        "id": "CyHLlG57v2ZW",
        "outputId": "c8269d83-10a7-45aa-f9d1-a0b4dcc3ba57"
      },
      "execution_count": 234,
      "outputs": [
        {
          "output_type": "stream",
          "name": "stdout",
          "text": [
            "С Новым Годом,друзья! <-- Необходимое сообщение\n",
            "D1 20 CD EE E2 FB EC 20 C3 EE E4 EE EC 2C E4 F0 F3 E7 FC FF 21 <-- Необходимое сообщение (16)\n",
            "DD FE FF 8F E5 A6 C1 F2 02 30 CB D5 02 94 1A 38 E5 5B 51 75 <-- Закодированное cообщение Центра\n",
            "0C DE 32 61 07 5D 2D D2 C1 DE 2F 3B EE B8 FE C8 16 BC AD 8A <-- Искомый ключ\n",
            "С Новым Годом,друзья <-- Необходимое сообщение из cообщения Центра\n"
          ]
        }
      ]
    }
  ]
}