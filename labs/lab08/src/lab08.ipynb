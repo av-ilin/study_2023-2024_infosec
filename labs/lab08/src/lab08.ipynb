{
  "nbformat": 4,
  "nbformat_minor": 0,
  "metadata": {
    "colab": {
      "provenance": []
    },
    "kernelspec": {
      "name": "python3",
      "display_name": "Python 3"
    },
    "language_info": {
      "name": "python"
    }
  },
  "cells": [
    {
      "cell_type": "code",
      "execution_count": 46,
      "metadata": {
        "id": "NPCMsPqyYrGr"
      },
      "outputs": [],
      "source": [
        "class Gumming:\n",
        "    def xor(self, hex_seq1, hex_seq2):\n",
        "        hex1 = hex_seq1.split()\n",
        "        hex2 = hex_seq2.split()\n",
        "        return ' '.join([self.__xor(hex1, hex2) for hex1, hex2 in zip(hex1, hex2)])\n",
        "\n",
        "    def to_hex(self, msg):\n",
        "        msg_hex = []\n",
        "        for char in msg:\n",
        "            char_cp1251 = char.encode('cp1251')\n",
        "            char_code = int.from_bytes(char_cp1251, 'little')\n",
        "            char_hex = hex(char_code)[-2:].upper()\n",
        "            msg_hex.append(char_hex)\n",
        "        return ' '.join(msg_hex)\n",
        "\n",
        "    def from_hex(self, msg_hex):\n",
        "        msg = ''\n",
        "        for char_hex in msg_hex.split():\n",
        "            char_code = int(char_hex, 16)\n",
        "            char_cp1251 = char_code.to_bytes(1, 'little')\n",
        "            char = char_cp1251.decode('cp1251')\n",
        "            msg += char\n",
        "        return msg\n",
        "\n",
        "    def __xor(self, sym1, sym2):\n",
        "        xor = lambda x, y: bytes(a^b for a, b in zip(x, y))\n",
        "        b_sym1 = bytes.fromhex(sym1)\n",
        "        b_sym2 = bytes.fromhex(sym2)\n",
        "        r_result = xor(b_sym1, b_sym2)\n",
        "        result = r_result.hex().upper()\n",
        "        return result\n",
        "\n",
        "gumming = Gumming()"
      ]
    },
    {
      "cell_type": "code",
      "source": [
        "P1_raw = 'НаВашисходящийот1204'\n",
        "P2_raw = 'ВСеверныйфилиалБанка'\n",
        "P1 = gumming.to_hex(P1_raw)\n",
        "P2 = gumming.to_hex(P2_raw)\n",
        "K = '05 0C 17 7F 0E 4E 37 D2 94 10 09 2E 22 57 FF C8 0B B2 70 54'\n",
        "C1 = gumming.xor(P1, K)\n",
        "C2 = gumming.xor(P2, K)\n",
        "P1_res = gumming.xor(C1, K)\n",
        "P2_res = gumming.xor(C2, K)\n",
        "P1_fin = gumming.from_hex(P1_res)\n",
        "P2_fin = gumming.from_hex(P2_res)\n",
        "\n",
        "print(P1_raw, '<-- Сообщение Центра P1 (raw)')\n",
        "print(P2_raw, '<-- Сообщение Центра P2 (raw)')\n",
        "print(P1, '<-- Сообщение Центра P1 (16)')\n",
        "print(P2, '<-- Сообщение Центра P2 (16)')\n",
        "print(K, '<-- Ключ Центра (16)')\n",
        "print(C1, '<-- Закодированное cообщение Центра P1 (16)')\n",
        "print(C2, '<-- Закодированное cообщение Центра P2 (16)')\n",
        "print(P1_res, '<-- Декодированное cообщение Центра P1 (16)')\n",
        "print(P2_res, '<-- Декодированное cообщение Центра P2 (16)')\n",
        "print(P1_fin, '<-- Декодированное cообщение Центра P1 (raw)')\n",
        "print(P2_fin, '<-- Декодированное cообщение Центра P2 (raw)')"
      ],
      "metadata": {
        "id": "Tpb-5Q9b9r9E",
        "colab": {
          "base_uri": "https://localhost:8080/"
        },
        "outputId": "dfb810c1-7742-4244-e307-1f19a36f5f43"
      },
      "execution_count": 33,
      "outputs": [
        {
          "output_type": "stream",
          "name": "stdout",
          "text": [
            "НаВашисходящийот1204 <-- Сообщение Центра P1 (raw)\n",
            "ВСеверныйфилиалБанка <-- Сообщение Центра P2 (raw)\n",
            "CD E0 C2 E0 F8 E8 F1 F5 EE E4 FF F9 E8 E9 EE F2 31 32 30 34 <-- Сообщение Центра P1 (16)\n",
            "C2 D1 E5 E2 E5 F0 ED FB E9 F4 E8 EB E8 E0 EB C1 E0 ED EA E0 <-- Сообщение Центра P2 (16)\n",
            "05 0C 17 7F 0E 4E 37 D2 94 10 09 2E 22 57 FF C8 0B B2 70 54 <-- Ключ Центра (16)\n",
            "C8 EC D5 9F F6 A6 C6 27 7A F4 F6 D7 CA BE 11 3A 3A 80 40 60 <-- Закодированное cообщение Центра P1 (16)\n",
            "C7 DD F2 9D EB BE DA 29 7D E4 E1 C5 CA B7 14 09 EB 5F 9A B4 <-- Закодированное cообщение Центра P2 (16)\n",
            "CD E0 C2 E0 F8 E8 F1 F5 EE E4 FF F9 E8 E9 EE F2 31 32 30 34 <-- Декодированное cообщение Центра P1 (16)\n",
            "C2 D1 E5 E2 E5 F0 ED FB E9 F4 E8 EB E8 E0 EB C1 E0 ED EA E0 <-- Декодированное cообщение Центра P2 (16)\n",
            "НаВашисходящийот1204 <-- Декодированное cообщение Центра P1 (raw)\n",
            "ВСеверныйфилиалБанка <-- Декодированное cообщение Центра P2 (raw)\n"
          ]
        }
      ]
    },
    {
      "cell_type": "code",
      "source": [
        "import random\n",
        "\n",
        "ALPHABET = list('АаБбВвГгДдЕеЁёЖжЗзИиЙйКкЛлМмНнОоПпРрСсТтУуФфХхЦцЧчШшЩщЪъЫыЬьЭэЮюЯя0123456789')\n",
        "IGNORE_SYM = '*'\n",
        "P_TEMPLATE = 'На****сходящий**12**'\n",
        "\n",
        "def getTextByTemplate(template):\n",
        "    msg = ''\n",
        "    for char in template:\n",
        "        if char == IGNORE_SYM:\n",
        "            msg += random.choice(ALPHABET)\n",
        "        else:\n",
        "            msg += char\n",
        "    return msg\n",
        "\n",
        "P1_raw = getTextByTemplate(P_TEMPLATE)\n",
        "P2_raw = getTextByTemplate(P_TEMPLATE)\n",
        "\n",
        "P1 = gumming.to_hex(P1_raw)\n",
        "P2 = gumming.to_hex(P2_raw)\n",
        "C1 = gumming.xor(P1, K)\n",
        "C2 = gumming.xor(P2, K)\n",
        "\n",
        "P2_res = gumming.xor(gumming.xor(C1, C2), P1)\n",
        "P2_fin = gumming.from_hex(P2_res)\n",
        "\n",
        "print(P_TEMPLATE, '<-- Шаблон Сообщения Центра (raw)')\n",
        "print(P1_raw, '<-- Сообщение Центра P1 (raw)')\n",
        "print(P2_raw, '<-- Сообщение Центра P2 (raw)')\n",
        "print(P1, '<-- Сообщение Центра P1 (16)')\n",
        "print(P2, '<-- Сообщение Центра P2 (16)')\n",
        "print(K, '<-- Ключ Центра (16)')\n",
        "print(C1, '<-- Закодированное cообщение Центра P1 (16)')\n",
        "print(C2, '<-- Закодированное cообщение Центра P2 (16)')\n",
        "print(P1_res, '<-- Взломанное cообщение Центра P2 (16)')\n",
        "print(P2_fin, '<-- Взломанное cообщение Центра P2 (raw)')"
      ],
      "metadata": {
        "colab": {
          "base_uri": "https://localhost:8080/"
        },
        "id": "X8hJaRkbEhKA",
        "outputId": "1aab554b-b344-42dd-b320-ea39cc39e5eb"
      },
      "execution_count": 47,
      "outputs": [
        {
          "output_type": "stream",
          "name": "stdout",
          "text": [
            "На****сходящий**12** <-- Шаблон Сообщения Центра (raw)\n",
            "НаущКЬсходящийуо12ЯЛ <-- Сообщение Центра P1 (raw)\n",
            "На8чО3сходящийВд12нЁ <-- Сообщение Центра P2 (raw)\n",
            "CD E0 F3 F9 CA DC F1 F5 EE E4 FF F9 E8 E9 F3 EE 31 32 DF CB <-- Сообщение Центра P1 (16)\n",
            "CD E0 38 F7 CE 33 F1 F5 EE E4 FF F9 E8 E9 C2 E4 31 32 ED A8 <-- Сообщение Центра P2 (16)\n",
            "05 0C 17 7F 0E 4E 37 D2 94 10 09 2E 22 57 FF C8 0B B2 70 54 <-- Ключ Центра (16)\n",
            "C8 EC E4 86 C4 92 C6 27 7A F4 F6 D7 CA BE 0C 26 3A 80 AF 9F <-- Закодированное cообщение Центра P1 (16)\n",
            "C8 EC 2F 88 C0 7D C6 27 7A F4 F6 D7 CA BE 3D 2C 3A 80 9D FC <-- Закодированное cообщение Центра P2 (16)\n",
            "CD E0 C2 E0 F8 E8 F1 F5 EE E4 FF F9 E8 E9 EE F2 31 32 30 34 <-- Взломанное cообщение Центра P2 (16)\n",
            "На8чО3сходящийВд12нЁ <-- Взломанное cообщение Центра P2 (raw)\n"
          ]
        }
      ]
    }
  ]
}